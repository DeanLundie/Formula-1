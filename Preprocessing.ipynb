{
 "cells": [
  {
   "cell_type": "markdown",
   "source": [
    "# **Data Preprocessing**"
   ],
   "metadata": {}
  },
  {
   "cell_type": "markdown",
   "source": [
    "In this notebook we aim to prepare the data for modelling.\r\n",
    "Data preprocessing will take place in 6 stages:\r\n",
    "\r\n",
    "* **1. Loading in the Data**\r\n",
    "* **2. Renaming the Dataframe Fields**\r\n",
    "* **3. Merging the Dataframes**\r\n",
    "* **4. Creating New Variables**\r\n",
    "* **5. Filling in Missing Values**\r\n",
    "* **6. Adding Dummy Variables**\r\n",
    "\r\n",
    "After preprocessing is complete, the data will be ready for training a machine learning model "
   ],
   "metadata": {}
  },
  {
   "cell_type": "markdown",
   "source": [
    "## **Dependencies**"
   ],
   "metadata": {}
  },
  {
   "cell_type": "code",
   "execution_count": 28,
   "source": [
    "import pandas as pd\r\n",
    "import numpy as np\r\n",
    "\r\n",
    "from dateutil.relativedelta import *"
   ],
   "outputs": [],
   "metadata": {}
  },
  {
   "cell_type": "markdown",
   "source": [
    "## **1. Loading in the Data**"
   ],
   "metadata": {}
  },
  {
   "cell_type": "markdown",
   "source": [
    "We are going to read in our six dataframes directly from Github, which will prevent other users from having to locally download the csv files"
   ],
   "metadata": {}
  },
  {
   "cell_type": "code",
   "execution_count": 3,
   "source": [
    "race_url = 'https://raw.githubusercontent.com/DeanLundie/Formula-1/master/Data/race.csv'\r\n",
    "races = pd.read_csv(race_url)\r\n",
    "\r\n",
    "results_url = 'https://raw.githubusercontent.com/DeanLundie/Formula-1/master/Data/results.csv'\r\n",
    "results = pd.read_csv(results_url)\r\n",
    "\r\n",
    "qualifying_url = 'https://raw.githubusercontent.com/DeanLundie/Formula-1/master/Data/qualifying_results.csv'\r\n",
    "qualifying = pd.read_csv(qualifying_url)\r\n",
    "\r\n",
    "driver_url = 'https://raw.githubusercontent.com/DeanLundie/Formula-1/master/Data/driver_standings.csv'\r\n",
    "driver_standings = pd.read_csv(driver_url)\r\n",
    "\r\n",
    "constructor_url = 'https://raw.githubusercontent.com/DeanLundie/Formula-1/master/Data/constructor_standings.csv'\r\n",
    "constructor_standings = pd.read_csv(constructor_url)\r\n",
    "\r\n",
    "weather_url = 'https://raw.githubusercontent.com/DeanLundie/Formula-1/master/Data/weather_info.csv'\r\n",
    "weather = pd.read_csv(weather_url)"
   ],
   "outputs": [],
   "metadata": {}
  },
  {
   "cell_type": "markdown",
   "source": [
    "## **2. Renaming the Dataframe Fields**"
   ],
   "metadata": {}
  },
  {
   "cell_type": "markdown",
   "source": [
    "Before we can merge the dataframes, we need to rename any fields that have differing names:"
   ],
   "metadata": {}
  },
  {
   "cell_type": "code",
   "execution_count": 14,
   "source": [
    "qualifying.rename(columns = {'grid_position': 'grid'}, inplace = True)\r\n",
    "\r\n",
    "print(qualifying.shape)\r\n",
    "qualifying.head()"
   ],
   "outputs": [
    {
     "output_type": "stream",
     "name": "stdout",
     "text": [
      "(14559, 6)\n"
     ]
    },
    {
     "output_type": "execute_result",
     "data": {
      "text/plain": [
       "   grid           driver_name             car qualifying_time  season  round\n",
       "0     1    Keke  Rosberg  ROS  Williams Honda        1:34.526    1983      1\n",
       "1     2     Alain  Prost  PRO         Renault        1:34.672    1983      1\n",
       "2     3  Patrick  Tambay  TAM         Ferrari        1:34.758    1983      1\n",
       "3     4   Nelson  Piquet  PIQ     Brabham BMW        1:35.114    1983      1\n",
       "4     5   Derek  Warwick  WAR    Toleman Hart        1:35.206    1983      1"
      ],
      "text/html": [
       "<div>\n",
       "<style scoped>\n",
       "    .dataframe tbody tr th:only-of-type {\n",
       "        vertical-align: middle;\n",
       "    }\n",
       "\n",
       "    .dataframe tbody tr th {\n",
       "        vertical-align: top;\n",
       "    }\n",
       "\n",
       "    .dataframe thead th {\n",
       "        text-align: right;\n",
       "    }\n",
       "</style>\n",
       "<table border=\"1\" class=\"dataframe\">\n",
       "  <thead>\n",
       "    <tr style=\"text-align: right;\">\n",
       "      <th></th>\n",
       "      <th>grid</th>\n",
       "      <th>driver_name</th>\n",
       "      <th>car</th>\n",
       "      <th>qualifying_time</th>\n",
       "      <th>season</th>\n",
       "      <th>round</th>\n",
       "    </tr>\n",
       "  </thead>\n",
       "  <tbody>\n",
       "    <tr>\n",
       "      <th>0</th>\n",
       "      <td>1</td>\n",
       "      <td>Keke  Rosberg  ROS</td>\n",
       "      <td>Williams Honda</td>\n",
       "      <td>1:34.526</td>\n",
       "      <td>1983</td>\n",
       "      <td>1</td>\n",
       "    </tr>\n",
       "    <tr>\n",
       "      <th>1</th>\n",
       "      <td>2</td>\n",
       "      <td>Alain  Prost  PRO</td>\n",
       "      <td>Renault</td>\n",
       "      <td>1:34.672</td>\n",
       "      <td>1983</td>\n",
       "      <td>1</td>\n",
       "    </tr>\n",
       "    <tr>\n",
       "      <th>2</th>\n",
       "      <td>3</td>\n",
       "      <td>Patrick  Tambay  TAM</td>\n",
       "      <td>Ferrari</td>\n",
       "      <td>1:34.758</td>\n",
       "      <td>1983</td>\n",
       "      <td>1</td>\n",
       "    </tr>\n",
       "    <tr>\n",
       "      <th>3</th>\n",
       "      <td>4</td>\n",
       "      <td>Nelson  Piquet  PIQ</td>\n",
       "      <td>Brabham BMW</td>\n",
       "      <td>1:35.114</td>\n",
       "      <td>1983</td>\n",
       "      <td>1</td>\n",
       "    </tr>\n",
       "    <tr>\n",
       "      <th>4</th>\n",
       "      <td>5</td>\n",
       "      <td>Derek  Warwick  WAR</td>\n",
       "      <td>Toleman Hart</td>\n",
       "      <td>1:35.206</td>\n",
       "      <td>1983</td>\n",
       "      <td>1</td>\n",
       "    </tr>\n",
       "  </tbody>\n",
       "</table>\n",
       "</div>"
      ]
     },
     "metadata": {},
     "execution_count": 14
    }
   ],
   "metadata": {}
  },
  {
   "cell_type": "markdown",
   "source": [
    "## **3. Merging the Dataframes**"
   ],
   "metadata": {}
  },
  {
   "cell_type": "markdown",
   "source": [
    "We can now begin merging the dataframes. Since there is no common identifier (which is one-to-one) between the dataframes, we will iteratively add two dataframes together which have a common key. This will be done until all six dataframes are contained within a single dataframe:"
   ],
   "metadata": {}
  },
  {
   "cell_type": "code",
   "execution_count": 26,
   "source": [
    "df1 = pd.merge(races, weather, how='inner', on=['season', 'round', 'circuit_id']).drop(['lat', 'long','country','weather'], axis = 1)\r\n",
    "df2 = pd.merge(df1, results, how='inner', on=['season', 'round', 'circuit_id']).drop(['url','points', 'status', 'time'], axis = 1)\r\n",
    "\r\n",
    "df3 = pd.merge(df2, driver_standings, how='left', on=['season', 'round', 'driver']) \r\n",
    "df4 = pd.merge(df3, constructor_standings, how='left', on=['season', 'round', 'constructor']) # from 1958\r\n",
    "\r\n",
    "final_df = pd.merge(df4, qualifying, how='inner', on=['season', 'round', 'grid']).drop(['driver_name', 'car'], axis = 1) # from 1983"
   ],
   "outputs": [],
   "metadata": {}
  },
  {
   "cell_type": "code",
   "execution_count": 27,
   "source": [
    "print(final_df.shape)\r\n",
    "final_df.head()"
   ],
   "outputs": [
    {
     "output_type": "stream",
     "name": "stdout",
     "text": [
      "(14536, 22)\n"
     ]
    },
    {
     "output_type": "execute_result",
     "data": {
      "text/plain": [
       "   season  round   circuit_id        date  weather_warm  weather_cold  \\\n",
       "0    1983      1  jacarepagua  1983-03-13             0             0   \n",
       "1    1983      1  jacarepagua  1983-03-13             0             0   \n",
       "2    1983      1  jacarepagua  1983-03-13             0             0   \n",
       "3    1983      1  jacarepagua  1983-03-13             0             0   \n",
       "4    1983      1  jacarepagua  1983-03-13             0             0   \n",
       "\n",
       "   weather_dry  weather_wet  weather_cloudy   driver  ... constructor grid  \\\n",
       "0            1            0               0   piquet  ...     brabham    4   \n",
       "1            1            0               0    lauda  ...     mclaren    9   \n",
       "2            1            0               0  laffite  ...    williams   18   \n",
       "3            1            0               0   tambay  ...     ferrari    3   \n",
       "4            1            0               0    surer  ...      arrows   20   \n",
       "\n",
       "  podium  driver_points  driver_wins  driver_standings_pos  \\\n",
       "0      1            0.0          0.0                   0.0   \n",
       "1      2            0.0          0.0                   0.0   \n",
       "2      3            0.0          0.0                   0.0   \n",
       "3      4            0.0          0.0                   0.0   \n",
       "4      5            0.0          0.0                   0.0   \n",
       "\n",
       "   constructor_points  constructor_wins  constructor_standings_pos  \\\n",
       "0                 0.0               0.0                        0.0   \n",
       "1                 0.0               0.0                        0.0   \n",
       "2                 0.0               0.0                        0.0   \n",
       "3                 0.0               0.0                        0.0   \n",
       "4                 0.0               0.0                        0.0   \n",
       "\n",
       "   qualifying_time  \n",
       "0         1:35.114  \n",
       "1         1:36.054  \n",
       "2         1:38.234  \n",
       "3         1:34.758  \n",
       "4         1:38.468  \n",
       "\n",
       "[5 rows x 22 columns]"
      ],
      "text/html": [
       "<div>\n",
       "<style scoped>\n",
       "    .dataframe tbody tr th:only-of-type {\n",
       "        vertical-align: middle;\n",
       "    }\n",
       "\n",
       "    .dataframe tbody tr th {\n",
       "        vertical-align: top;\n",
       "    }\n",
       "\n",
       "    .dataframe thead th {\n",
       "        text-align: right;\n",
       "    }\n",
       "</style>\n",
       "<table border=\"1\" class=\"dataframe\">\n",
       "  <thead>\n",
       "    <tr style=\"text-align: right;\">\n",
       "      <th></th>\n",
       "      <th>season</th>\n",
       "      <th>round</th>\n",
       "      <th>circuit_id</th>\n",
       "      <th>date</th>\n",
       "      <th>weather_warm</th>\n",
       "      <th>weather_cold</th>\n",
       "      <th>weather_dry</th>\n",
       "      <th>weather_wet</th>\n",
       "      <th>weather_cloudy</th>\n",
       "      <th>driver</th>\n",
       "      <th>...</th>\n",
       "      <th>constructor</th>\n",
       "      <th>grid</th>\n",
       "      <th>podium</th>\n",
       "      <th>driver_points</th>\n",
       "      <th>driver_wins</th>\n",
       "      <th>driver_standings_pos</th>\n",
       "      <th>constructor_points</th>\n",
       "      <th>constructor_wins</th>\n",
       "      <th>constructor_standings_pos</th>\n",
       "      <th>qualifying_time</th>\n",
       "    </tr>\n",
       "  </thead>\n",
       "  <tbody>\n",
       "    <tr>\n",
       "      <th>0</th>\n",
       "      <td>1983</td>\n",
       "      <td>1</td>\n",
       "      <td>jacarepagua</td>\n",
       "      <td>1983-03-13</td>\n",
       "      <td>0</td>\n",
       "      <td>0</td>\n",
       "      <td>1</td>\n",
       "      <td>0</td>\n",
       "      <td>0</td>\n",
       "      <td>piquet</td>\n",
       "      <td>...</td>\n",
       "      <td>brabham</td>\n",
       "      <td>4</td>\n",
       "      <td>1</td>\n",
       "      <td>0.0</td>\n",
       "      <td>0.0</td>\n",
       "      <td>0.0</td>\n",
       "      <td>0.0</td>\n",
       "      <td>0.0</td>\n",
       "      <td>0.0</td>\n",
       "      <td>1:35.114</td>\n",
       "    </tr>\n",
       "    <tr>\n",
       "      <th>1</th>\n",
       "      <td>1983</td>\n",
       "      <td>1</td>\n",
       "      <td>jacarepagua</td>\n",
       "      <td>1983-03-13</td>\n",
       "      <td>0</td>\n",
       "      <td>0</td>\n",
       "      <td>1</td>\n",
       "      <td>0</td>\n",
       "      <td>0</td>\n",
       "      <td>lauda</td>\n",
       "      <td>...</td>\n",
       "      <td>mclaren</td>\n",
       "      <td>9</td>\n",
       "      <td>2</td>\n",
       "      <td>0.0</td>\n",
       "      <td>0.0</td>\n",
       "      <td>0.0</td>\n",
       "      <td>0.0</td>\n",
       "      <td>0.0</td>\n",
       "      <td>0.0</td>\n",
       "      <td>1:36.054</td>\n",
       "    </tr>\n",
       "    <tr>\n",
       "      <th>2</th>\n",
       "      <td>1983</td>\n",
       "      <td>1</td>\n",
       "      <td>jacarepagua</td>\n",
       "      <td>1983-03-13</td>\n",
       "      <td>0</td>\n",
       "      <td>0</td>\n",
       "      <td>1</td>\n",
       "      <td>0</td>\n",
       "      <td>0</td>\n",
       "      <td>laffite</td>\n",
       "      <td>...</td>\n",
       "      <td>williams</td>\n",
       "      <td>18</td>\n",
       "      <td>3</td>\n",
       "      <td>0.0</td>\n",
       "      <td>0.0</td>\n",
       "      <td>0.0</td>\n",
       "      <td>0.0</td>\n",
       "      <td>0.0</td>\n",
       "      <td>0.0</td>\n",
       "      <td>1:38.234</td>\n",
       "    </tr>\n",
       "    <tr>\n",
       "      <th>3</th>\n",
       "      <td>1983</td>\n",
       "      <td>1</td>\n",
       "      <td>jacarepagua</td>\n",
       "      <td>1983-03-13</td>\n",
       "      <td>0</td>\n",
       "      <td>0</td>\n",
       "      <td>1</td>\n",
       "      <td>0</td>\n",
       "      <td>0</td>\n",
       "      <td>tambay</td>\n",
       "      <td>...</td>\n",
       "      <td>ferrari</td>\n",
       "      <td>3</td>\n",
       "      <td>4</td>\n",
       "      <td>0.0</td>\n",
       "      <td>0.0</td>\n",
       "      <td>0.0</td>\n",
       "      <td>0.0</td>\n",
       "      <td>0.0</td>\n",
       "      <td>0.0</td>\n",
       "      <td>1:34.758</td>\n",
       "    </tr>\n",
       "    <tr>\n",
       "      <th>4</th>\n",
       "      <td>1983</td>\n",
       "      <td>1</td>\n",
       "      <td>jacarepagua</td>\n",
       "      <td>1983-03-13</td>\n",
       "      <td>0</td>\n",
       "      <td>0</td>\n",
       "      <td>1</td>\n",
       "      <td>0</td>\n",
       "      <td>0</td>\n",
       "      <td>surer</td>\n",
       "      <td>...</td>\n",
       "      <td>arrows</td>\n",
       "      <td>20</td>\n",
       "      <td>5</td>\n",
       "      <td>0.0</td>\n",
       "      <td>0.0</td>\n",
       "      <td>0.0</td>\n",
       "      <td>0.0</td>\n",
       "      <td>0.0</td>\n",
       "      <td>0.0</td>\n",
       "      <td>1:38.468</td>\n",
       "    </tr>\n",
       "  </tbody>\n",
       "</table>\n",
       "<p>5 rows × 22 columns</p>\n",
       "</div>"
      ]
     },
     "metadata": {},
     "execution_count": 27
    }
   ],
   "metadata": {}
  },
  {
   "cell_type": "markdown",
   "source": [
    "## **4. Missing Values**"
   ],
   "metadata": {}
  },
  {
   "cell_type": "markdown",
   "source": [
    "Before we can begin to deal with missing values, we need to identify which fields contain missing values:"
   ],
   "metadata": {}
  },
  {
   "cell_type": "code",
   "execution_count": 29,
   "source": [
    "final_df.isna().sum()"
   ],
   "outputs": [
    {
     "output_type": "execute_result",
     "data": {
      "text/plain": [
       "season                         0\n",
       "round                          0\n",
       "circuit_id                     0\n",
       "date                           0\n",
       "weather_warm                   0\n",
       "weather_cold                   0\n",
       "weather_dry                    0\n",
       "weather_wet                    0\n",
       "weather_cloudy                 0\n",
       "driver                         0\n",
       "date_of_birth                  0\n",
       "nationality                    0\n",
       "constructor                    0\n",
       "grid                           0\n",
       "podium                         0\n",
       "driver_points                563\n",
       "driver_wins                  563\n",
       "driver_standings_pos         563\n",
       "constructor_points           164\n",
       "constructor_wins             164\n",
       "constructor_standings_pos    164\n",
       "qualifying_time              260\n",
       "dtype: int64"
      ]
     },
     "metadata": {},
     "execution_count": 29
    }
   ],
   "metadata": {}
  },
  {
   "cell_type": "markdown",
   "source": [
    "As can be seen, it is only the final 7 fields that contain any missing data. For the fields with the most missing data (driver_points, driver_wins & driver_standing_pos), this is approximately only 3.9% of the data available. Therefore, any missing value imputation or removal should not have a significant effect on the final performance of the model "
   ],
   "metadata": {}
  },
  {
   "cell_type": "code",
   "execution_count": 31,
   "source": [
    "# fill/drop nulls\r\n",
    "\r\n",
    "for col in ['driver_points', 'driver_wins', 'driver_standings_pos', 'constructor_points', \r\n",
    "            'constructor_wins' , 'constructor_standings_pos']:\r\n",
    "    final_df[col].fillna(0, inplace = True)\r\n",
    "    final_df[col] = final_df[col].map(lambda x: int(x))\r\n",
    "    \r\n",
    "final_df.dropna(inplace = True )"
   ],
   "outputs": [],
   "metadata": {}
  }
 ],
 "metadata": {
  "orig_nbformat": 4,
  "language_info": {
   "name": "python"
  }
 },
 "nbformat": 4,
 "nbformat_minor": 2
}