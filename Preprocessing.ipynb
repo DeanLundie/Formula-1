{
 "cells": [
  {
   "cell_type": "markdown",
   "source": [
    "# **Data Preprocessing**"
   ],
   "metadata": {}
  },
  {
   "cell_type": "markdown",
   "source": [
    "In this notebook we aim to prepare the data for modelling.\r\n",
    "Data preprocessing will take place in x stages:\r\n",
    "\r\n",
    "* **1. Loading in the Data**\r\n",
    "* **2. Merging the Dataframes**\r\n",
    "* **3. Creating New Variables**\r\n",
    "* **4. Filling in Missing Values**\r\n",
    "* **5. Adding Dummy Variables**\r\n",
    "\r\n",
    "After preprocessing is complete, the data will be ready for training a machine learning model "
   ],
   "metadata": {}
  },
  {
   "cell_type": "markdown",
   "source": [
    "## **Dependencies**"
   ],
   "metadata": {}
  },
  {
   "cell_type": "code",
   "execution_count": 1,
   "source": [
    "import pandas as pd\r\n",
    "import numpy as np"
   ],
   "outputs": [],
   "metadata": {}
  },
  {
   "cell_type": "markdown",
   "source": [
    "## **1. Loading in the Data**"
   ],
   "metadata": {}
  },
  {
   "cell_type": "markdown",
   "source": [
    "We are going to read in our six dataframes directly from Github, which will prevent other users from having to locally download the csv files"
   ],
   "metadata": {}
  },
  {
   "cell_type": "code",
   "execution_count": 3,
   "source": [
    "race_url = 'https://raw.githubusercontent.com/DeanLundie/Formula-1/master/Data/race.csv'\r\n",
    "races = pd.read_csv(race_url)\r\n",
    "\r\n",
    "results_url = 'https://raw.githubusercontent.com/DeanLundie/Formula-1/master/Data/results.csv'\r\n",
    "results = pd.read_csv(results_url)\r\n",
    "\r\n",
    "qualifying_url = 'https://raw.githubusercontent.com/DeanLundie/Formula-1/master/Data/qualifying_results.csv'\r\n",
    "qualifying = pd.read_csv(qualifying_url)\r\n",
    "\r\n",
    "driver_url = 'https://raw.githubusercontent.com/DeanLundie/Formula-1/master/Data/driver_standings.csv'\r\n",
    "driver_standings = pd.read_csv(driver_url)\r\n",
    "\r\n",
    "constructor_url = 'https://raw.githubusercontent.com/DeanLundie/Formula-1/master/Data/constructor_standings.csv'\r\n",
    "constructor_standings = pd.read_csv(constructor_url)\r\n",
    "\r\n",
    "weather_url = 'https://raw.githubusercontent.com/DeanLundie/Formula-1/master/Data/weather_info.csv'\r\n",
    "weather = pd.read_csv(weather_url)"
   ],
   "outputs": [],
   "metadata": {}
  }
 ],
 "metadata": {
  "orig_nbformat": 4,
  "language_info": {
   "name": "python"
  }
 },
 "nbformat": 4,
 "nbformat_minor": 2
}